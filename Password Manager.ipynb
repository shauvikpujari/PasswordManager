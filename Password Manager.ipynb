{
 "cells": [
  {
   "cell_type": "code",
   "execution_count": 1,
   "id": "e60983a8",
   "metadata": {},
   "outputs": [],
   "source": [
    "import re\n",
    "class BasePasswordManager:\n",
    "    def __init__(self,old_password):\n",
    "        self.old_password=old_password\n",
    "    def get_password(self):\n",
    "        if len(self.old_password)==0:\n",
    "            return -1\n",
    "        return self.old_password[-1]\n",
    "    def is_correct(self,new_password):\n",
    "        if new_password==self.get_password():\n",
    "            return False;\n",
    "        else:\n",
    "            return True;\n",
    "class PasswordManager(BasePasswordManager):\n",
    "    def __init__(self,old_password):\n",
    "        super().__init__(old_password)\n",
    "    def get_level(self,new_password):\n",
    "        if re.match(r'^[a-zA-Z]*$',new_password) or re.match(r'^[0-9]*$',new_password):\n",
    "            return 0\n",
    "        if re.match(r'^[a-zA-Z0-9]*$',new_password):\n",
    "            return 1\n",
    "        if re.match(r'^[a-zA-Z0-9!@#$%^&*()_+\\-=\\[\\]{};\\':\"\\\\|,.<>\\/?]*$',new_password ):\n",
    "            return 2\n",
    "    def set_password(self,new_password):\n",
    "        gt_pass=super().get_password();\n",
    "        if gt_pass!=-1 and self.get_level(gt_pass)<self.get_level(new_password) and len(new_password)>=6 and super().is_correct(new_password):\n",
    "            self.old_password.append(new_password)\n",
    "    \n",
    "        \n",
    "            \n",
    "        "
   ]
  },
  {
   "cell_type": "code",
   "execution_count": 2,
   "id": "9f4910e2",
   "metadata": {},
   "outputs": [],
   "source": [
    "obj=PasswordManager([\"1234\"])    #Password level is 0"
   ]
  },
  {
   "cell_type": "code",
   "execution_count": 3,
   "id": "3434c99d",
   "metadata": {},
   "outputs": [],
   "source": [
    "obj.set_password(\"12aloer12\")    #Password level is 1"
   ]
  },
  {
   "cell_type": "code",
   "execution_count": 5,
   "id": "e70b13e0",
   "metadata": {},
   "outputs": [
    {
     "data": {
      "text/plain": [
       "['1234', '12aloer12']"
      ]
     },
     "execution_count": 5,
     "metadata": {},
     "output_type": "execute_result"
    }
   ],
   "source": [
    "obj.old_password                #Password level of last password was lesser than new password \n",
    "                                #   So password list will add new password'''"
   ]
  },
  {
   "cell_type": "code",
   "execution_count": 6,
   "id": "9fbd0e7a",
   "metadata": {},
   "outputs": [],
   "source": [
    "obj.set_password(\"123@aasdeA\")  #Password level is 2"
   ]
  },
  {
   "cell_type": "code",
   "execution_count": 7,
   "id": "c8b3f6e0",
   "metadata": {},
   "outputs": [
    {
     "data": {
      "text/plain": [
       "['1234', '12aloer12', '123@aasdeA']"
      ]
     },
     "execution_count": 7,
     "metadata": {},
     "output_type": "execute_result"
    }
   ],
   "source": [
    "obj.old_password                 #Password level of last password was lesser than new password \n",
    "                                  # So password list will add new password"
   ]
  },
  {
   "cell_type": "code",
   "execution_count": 8,
   "id": "dd980050",
   "metadata": {},
   "outputs": [],
   "source": [
    "obj.set_password(\"1234\")        #Password level is 0"
   ]
  },
  {
   "cell_type": "code",
   "execution_count": 12,
   "id": "640cb235",
   "metadata": {},
   "outputs": [
    {
     "data": {
      "text/plain": [
       "['1234', '12aloer12', '123@aasdeA']"
      ]
     },
     "execution_count": 12,
     "metadata": {},
     "output_type": "execute_result"
    }
   ],
   "source": [
    "obj.old_password                #Password level of last password was greater than new password \n",
    "                                #So password list will not add new password into the list of password"
   ]
  },
  {
   "cell_type": "code",
   "execution_count": 13,
   "id": "19a8a515",
   "metadata": {},
   "outputs": [],
   "source": [
    "obj.set_password('90091')    #Password level is 0 so their will be no password updation"
   ]
  },
  {
   "cell_type": "code",
   "execution_count": 11,
   "id": "db6e72d7",
   "metadata": {},
   "outputs": [
    {
     "data": {
      "text/plain": [
       "['1234', '12aloer12', '123@aasdeA']"
      ]
     },
     "execution_count": 11,
     "metadata": {},
     "output_type": "execute_result"
    }
   ],
   "source": [
    "obj.old_password"
   ]
  },
  {
   "cell_type": "code",
   "execution_count": 14,
   "id": "63735ea0",
   "metadata": {},
   "outputs": [],
   "source": [
    "obj.set_password('123$@assd')            #password level is equal to the last password so there will be no password updation"
   ]
  },
  {
   "cell_type": "code",
   "execution_count": 15,
   "id": "dd6a2688",
   "metadata": {},
   "outputs": [
    {
     "data": {
      "text/plain": [
       "['1234', '12aloer12', '123@aasdeA']"
      ]
     },
     "execution_count": 15,
     "metadata": {},
     "output_type": "execute_result"
    }
   ],
   "source": [
    "obj.old_password"
   ]
  },
  {
   "cell_type": "code",
   "execution_count": 16,
   "id": "735f71ff",
   "metadata": {},
   "outputs": [],
   "source": [
    "obj.set_password('123@aasdeA')      #password is equal to last password so there will be no password updation"
   ]
  },
  {
   "cell_type": "code",
   "execution_count": 17,
   "id": "70400b40",
   "metadata": {},
   "outputs": [
    {
     "data": {
      "text/plain": [
       "['1234', '12aloer12', '123@aasdeA']"
      ]
     },
     "execution_count": 17,
     "metadata": {},
     "output_type": "execute_result"
    }
   ],
   "source": [
    "obj.old_password"
   ]
  },
  {
   "cell_type": "code",
   "execution_count": null,
   "id": "f8b83a62",
   "metadata": {},
   "outputs": [],
   "source": []
  }
 ],
 "metadata": {
  "kernelspec": {
   "display_name": "Python 3 (ipykernel)",
   "language": "python",
   "name": "python3"
  },
  "language_info": {
   "codemirror_mode": {
    "name": "ipython",
    "version": 3
   },
   "file_extension": ".py",
   "mimetype": "text/x-python",
   "name": "python",
   "nbconvert_exporter": "python",
   "pygments_lexer": "ipython3",
   "version": "3.9.7"
  }
 },
 "nbformat": 4,
 "nbformat_minor": 5
}
